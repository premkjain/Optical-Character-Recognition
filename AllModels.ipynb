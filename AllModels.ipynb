{
 "cells": [
  {
   "cell_type": "markdown",
   "id": "830b7ea7",
   "metadata": {},
   "source": [
    "This file contains Random Forest, K-Nearest Neighbour and Support Vector Machine ML Models."
   ]
  },
  {
   "cell_type": "markdown",
   "id": "abbd48e5",
   "metadata": {},
   "source": [
    "#### Import the libraries"
   ]
  },
  {
   "cell_type": "code",
   "execution_count": 144,
   "id": "946a8e35",
   "metadata": {},
   "outputs": [],
   "source": [
    "import os\n",
    "import cv2\n",
    "import numpy as np\n",
    "import pandas as pd\n",
    "from sklearn import preprocessing\n",
    "from sklearn.metrics import accuracy_score\n",
    "from sklearn.model_selection import GridSearchCV\n",
    "from sklearn.preprocessing import StandardScaler\n",
    "from skimage.filters.rank import entropy\n",
    "from skimage.filters import sobel\n",
    "from skimage.morphology import disk\n",
    "from scipy import ndimage as nd\n",
    "from skimage.feature import hog\n",
    "from sklearn.ensemble import RandomForestClassifier\n",
    "from sklearn.model_selection import train_test_split\n",
    "from sklearn.svm import SVC\n",
    "from sklearn.neighbors import KNeighborsClassifier\n",
    "import matplotlib.pyplot as plt\n",
    "from sklearn.model_selection import validation_curve"
   ]
  },
  {
   "cell_type": "markdown",
   "id": "801a5aeb",
   "metadata": {},
   "source": [
    "#### Load the data and Extract the features"
   ]
  },
  {
   "cell_type": "markdown",
   "id": "3aef80dd",
   "metadata": {},
   "source": [
    "Here in the load_data(data_dir) function we are loading the data, resizing the data and extracting the features from HOG_Features for the train and test both the datasets."
   ]
  },
  {
   "cell_type": "code",
   "execution_count": 145,
   "id": "ff430992",
   "metadata": {},
   "outputs": [],
   "source": [
    "def load_data(data_dir):\n",
    "    features = []\n",
    "    labels = []\n",
    "    for folder in os.listdir(data_dir):\n",
    "        label = folder\n",
    "        folder_path = os.path.join(data_dir, folder)\n",
    "        for filename in os.listdir(folder_path):\n",
    "            image_path = os.path.join(folder_path, filename)\n",
    "            image = cv2.imread(image_path, cv2.IMREAD_GRAYSCALE)\n",
    "            if image is not None:\n",
    "                resized_image = cv2.resize(image, (64, 64))\n",
    "\n",
    "                # Step 3: Extract Features (HOG Features)\n",
    "                hog_features = hog(resized_image, orientations=8, pixels_per_cell=(4, 4), cells_per_block=(1, 1))\n",
    "\n",
    "                # Append features and labels\n",
    "                features.append(hog_features)\n",
    "                labels.append(folder)\n",
    "\n",
    "            else:\n",
    "                print(f\"Error: Image {image_path} not loaded.\")\n",
    "    return features, labels\n",
    "\n",
    "# Load training and testing data\n",
    "training_data_dir = 'E:/IIIT Delhi/ML/Project/data/training_data/'\n",
    "testing_data_dir = 'E:/IIIT Delhi/ML/Project/data/testing_data/'\n",
    "train_images, train_labels = load_data(training_data_dir)\n",
    "test_images, test_labels = load_data(testing_data_dir)"
   ]
  },
  {
   "cell_type": "code",
   "execution_count": 146,
   "id": "be9279c1",
   "metadata": {},
   "outputs": [],
   "source": [
    "X = np.array(train_images)\n",
    "y = np.array(train_labels)\n",
    "X_test = np.array(test_images)\n",
    "y_test = np.array(test_labels)"
   ]
  },
  {
   "cell_type": "code",
   "execution_count": 161,
   "id": "e14efff5",
   "metadata": {},
   "outputs": [],
   "source": [
    "X_train, X_validation, y_train, y_validaation = train_test_split(X, y, test_size=0.1, random_state=42)"
   ]
  },
  {
   "cell_type": "markdown",
   "id": "647382e8",
   "metadata": {},
   "source": [
    "#### Random Forest"
   ]
  },
  {
   "cell_type": "markdown",
   "id": "78bce932",
   "metadata": {},
   "source": [
    "We have splitted the train data into train + test data (Validation data) so that we can apply Random Forest Classifier model on the train data and then apply prediction on the test data. By doing this we minimizing the probability of the Overfitting problem. Then we apply model for prediction on the Test dataset. By applying the Random Forest Classifier we are getting 96.21% accuracy."
   ]
  },
  {
   "cell_type": "code",
   "execution_count": 162,
   "id": "430010dd",
   "metadata": {},
   "outputs": [
    {
     "data": {
      "text/html": [
       "<style>#sk-container-id-5 {color: black;}#sk-container-id-5 pre{padding: 0;}#sk-container-id-5 div.sk-toggleable {background-color: white;}#sk-container-id-5 label.sk-toggleable__label {cursor: pointer;display: block;width: 100%;margin-bottom: 0;padding: 0.3em;box-sizing: border-box;text-align: center;}#sk-container-id-5 label.sk-toggleable__label-arrow:before {content: \"▸\";float: left;margin-right: 0.25em;color: #696969;}#sk-container-id-5 label.sk-toggleable__label-arrow:hover:before {color: black;}#sk-container-id-5 div.sk-estimator:hover label.sk-toggleable__label-arrow:before {color: black;}#sk-container-id-5 div.sk-toggleable__content {max-height: 0;max-width: 0;overflow: hidden;text-align: left;background-color: #f0f8ff;}#sk-container-id-5 div.sk-toggleable__content pre {margin: 0.2em;color: black;border-radius: 0.25em;background-color: #f0f8ff;}#sk-container-id-5 input.sk-toggleable__control:checked~div.sk-toggleable__content {max-height: 200px;max-width: 100%;overflow: auto;}#sk-container-id-5 input.sk-toggleable__control:checked~label.sk-toggleable__label-arrow:before {content: \"▾\";}#sk-container-id-5 div.sk-estimator input.sk-toggleable__control:checked~label.sk-toggleable__label {background-color: #d4ebff;}#sk-container-id-5 div.sk-label input.sk-toggleable__control:checked~label.sk-toggleable__label {background-color: #d4ebff;}#sk-container-id-5 input.sk-hidden--visually {border: 0;clip: rect(1px 1px 1px 1px);clip: rect(1px, 1px, 1px, 1px);height: 1px;margin: -1px;overflow: hidden;padding: 0;position: absolute;width: 1px;}#sk-container-id-5 div.sk-estimator {font-family: monospace;background-color: #f0f8ff;border: 1px dotted black;border-radius: 0.25em;box-sizing: border-box;margin-bottom: 0.5em;}#sk-container-id-5 div.sk-estimator:hover {background-color: #d4ebff;}#sk-container-id-5 div.sk-parallel-item::after {content: \"\";width: 100%;border-bottom: 1px solid gray;flex-grow: 1;}#sk-container-id-5 div.sk-label:hover label.sk-toggleable__label {background-color: #d4ebff;}#sk-container-id-5 div.sk-serial::before {content: \"\";position: absolute;border-left: 1px solid gray;box-sizing: border-box;top: 0;bottom: 0;left: 50%;z-index: 0;}#sk-container-id-5 div.sk-serial {display: flex;flex-direction: column;align-items: center;background-color: white;padding-right: 0.2em;padding-left: 0.2em;position: relative;}#sk-container-id-5 div.sk-item {position: relative;z-index: 1;}#sk-container-id-5 div.sk-parallel {display: flex;align-items: stretch;justify-content: center;background-color: white;position: relative;}#sk-container-id-5 div.sk-item::before, #sk-container-id-5 div.sk-parallel-item::before {content: \"\";position: absolute;border-left: 1px solid gray;box-sizing: border-box;top: 0;bottom: 0;left: 50%;z-index: -1;}#sk-container-id-5 div.sk-parallel-item {display: flex;flex-direction: column;z-index: 1;position: relative;background-color: white;}#sk-container-id-5 div.sk-parallel-item:first-child::after {align-self: flex-end;width: 50%;}#sk-container-id-5 div.sk-parallel-item:last-child::after {align-self: flex-start;width: 50%;}#sk-container-id-5 div.sk-parallel-item:only-child::after {width: 0;}#sk-container-id-5 div.sk-dashed-wrapped {border: 1px dashed gray;margin: 0 0.4em 0.5em 0.4em;box-sizing: border-box;padding-bottom: 0.4em;background-color: white;}#sk-container-id-5 div.sk-label label {font-family: monospace;font-weight: bold;display: inline-block;line-height: 1.2em;}#sk-container-id-5 div.sk-label-container {text-align: center;}#sk-container-id-5 div.sk-container {/* jupyter's `normalize.less` sets `[hidden] { display: none; }` but bootstrap.min.css set `[hidden] { display: none !important; }` so we also need the `!important` here to be able to override the default hidden behavior on the sphinx rendered scikit-learn.org. See: https://github.com/scikit-learn/scikit-learn/issues/21755 */display: inline-block !important;position: relative;}#sk-container-id-5 div.sk-text-repr-fallback {display: none;}</style><div id=\"sk-container-id-5\" class=\"sk-top-container\"><div class=\"sk-text-repr-fallback\"><pre>RandomForestClassifier(random_state=42)</pre><b>In a Jupyter environment, please rerun this cell to show the HTML representation or trust the notebook. <br />On GitHub, the HTML representation is unable to render, please try loading this page with nbviewer.org.</b></div><div class=\"sk-container\" hidden><div class=\"sk-item\"><div class=\"sk-estimator sk-toggleable\"><input class=\"sk-toggleable__control sk-hidden--visually\" id=\"sk-estimator-id-5\" type=\"checkbox\" checked><label for=\"sk-estimator-id-5\" class=\"sk-toggleable__label sk-toggleable__label-arrow\">RandomForestClassifier</label><div class=\"sk-toggleable__content\"><pre>RandomForestClassifier(random_state=42)</pre></div></div></div></div></div>"
      ],
      "text/plain": [
       "RandomForestClassifier(random_state=42)"
      ]
     },
     "execution_count": 162,
     "metadata": {},
     "output_type": "execute_result"
    }
   ],
   "source": [
    "RFClassifer = RandomForestClassifier(n_estimators=100, random_state=42)\n",
    "RFClassifer.fit(X_train, y_train)"
   ]
  },
  {
   "cell_type": "code",
   "execution_count": 163,
   "id": "ad170680",
   "metadata": {},
   "outputs": [],
   "source": [
    "y_pred = RFClassifer.predict(X_validation)"
   ]
  },
  {
   "cell_type": "code",
   "execution_count": 165,
   "id": "83352f4b",
   "metadata": {},
   "outputs": [
    {
     "name": "stdout",
     "output_type": "stream",
     "text": [
      "Validation set Accuracy: 0.9621909840038778\n"
     ]
    }
   ],
   "source": [
    "accuracy = accuracy_score(y_validaation, y_pred)\n",
    "print(f\"Validation set Accuracy: {accuracy}\")"
   ]
  },
  {
   "cell_type": "code",
   "execution_count": 166,
   "id": "863db661",
   "metadata": {},
   "outputs": [
    {
     "name": "stdout",
     "output_type": "stream",
     "text": [
      "Test dataset Accuracy: 0.9621909840038778\n"
     ]
    }
   ],
   "source": [
    "y_pred = RFClassifer.predict(X_test)\n",
    "\n",
    "accuracy = accuracy_score(y_test, y_pred)\n",
    "print(f\"Test dataset Accuracy: {accuracy}\")"
   ]
  },
  {
   "cell_type": "markdown",
   "id": "f085344e",
   "metadata": {},
   "source": [
    "#### Support Vector Machine"
   ]
  },
  {
   "cell_type": "markdown",
   "id": "dc87879d",
   "metadata": {},
   "source": [
    "We are applying the SVM Classifier on the train data and then after model training we apply the prediction on the test data getting the accuracy of 97%. "
   ]
  },
  {
   "cell_type": "code",
   "execution_count": 167,
   "id": "2b4ed142",
   "metadata": {},
   "outputs": [
    {
     "data": {
      "text/html": [
       "<style>#sk-container-id-6 {color: black;}#sk-container-id-6 pre{padding: 0;}#sk-container-id-6 div.sk-toggleable {background-color: white;}#sk-container-id-6 label.sk-toggleable__label {cursor: pointer;display: block;width: 100%;margin-bottom: 0;padding: 0.3em;box-sizing: border-box;text-align: center;}#sk-container-id-6 label.sk-toggleable__label-arrow:before {content: \"▸\";float: left;margin-right: 0.25em;color: #696969;}#sk-container-id-6 label.sk-toggleable__label-arrow:hover:before {color: black;}#sk-container-id-6 div.sk-estimator:hover label.sk-toggleable__label-arrow:before {color: black;}#sk-container-id-6 div.sk-toggleable__content {max-height: 0;max-width: 0;overflow: hidden;text-align: left;background-color: #f0f8ff;}#sk-container-id-6 div.sk-toggleable__content pre {margin: 0.2em;color: black;border-radius: 0.25em;background-color: #f0f8ff;}#sk-container-id-6 input.sk-toggleable__control:checked~div.sk-toggleable__content {max-height: 200px;max-width: 100%;overflow: auto;}#sk-container-id-6 input.sk-toggleable__control:checked~label.sk-toggleable__label-arrow:before {content: \"▾\";}#sk-container-id-6 div.sk-estimator input.sk-toggleable__control:checked~label.sk-toggleable__label {background-color: #d4ebff;}#sk-container-id-6 div.sk-label input.sk-toggleable__control:checked~label.sk-toggleable__label {background-color: #d4ebff;}#sk-container-id-6 input.sk-hidden--visually {border: 0;clip: rect(1px 1px 1px 1px);clip: rect(1px, 1px, 1px, 1px);height: 1px;margin: -1px;overflow: hidden;padding: 0;position: absolute;width: 1px;}#sk-container-id-6 div.sk-estimator {font-family: monospace;background-color: #f0f8ff;border: 1px dotted black;border-radius: 0.25em;box-sizing: border-box;margin-bottom: 0.5em;}#sk-container-id-6 div.sk-estimator:hover {background-color: #d4ebff;}#sk-container-id-6 div.sk-parallel-item::after {content: \"\";width: 100%;border-bottom: 1px solid gray;flex-grow: 1;}#sk-container-id-6 div.sk-label:hover label.sk-toggleable__label {background-color: #d4ebff;}#sk-container-id-6 div.sk-serial::before {content: \"\";position: absolute;border-left: 1px solid gray;box-sizing: border-box;top: 0;bottom: 0;left: 50%;z-index: 0;}#sk-container-id-6 div.sk-serial {display: flex;flex-direction: column;align-items: center;background-color: white;padding-right: 0.2em;padding-left: 0.2em;position: relative;}#sk-container-id-6 div.sk-item {position: relative;z-index: 1;}#sk-container-id-6 div.sk-parallel {display: flex;align-items: stretch;justify-content: center;background-color: white;position: relative;}#sk-container-id-6 div.sk-item::before, #sk-container-id-6 div.sk-parallel-item::before {content: \"\";position: absolute;border-left: 1px solid gray;box-sizing: border-box;top: 0;bottom: 0;left: 50%;z-index: -1;}#sk-container-id-6 div.sk-parallel-item {display: flex;flex-direction: column;z-index: 1;position: relative;background-color: white;}#sk-container-id-6 div.sk-parallel-item:first-child::after {align-self: flex-end;width: 50%;}#sk-container-id-6 div.sk-parallel-item:last-child::after {align-self: flex-start;width: 50%;}#sk-container-id-6 div.sk-parallel-item:only-child::after {width: 0;}#sk-container-id-6 div.sk-dashed-wrapped {border: 1px dashed gray;margin: 0 0.4em 0.5em 0.4em;box-sizing: border-box;padding-bottom: 0.4em;background-color: white;}#sk-container-id-6 div.sk-label label {font-family: monospace;font-weight: bold;display: inline-block;line-height: 1.2em;}#sk-container-id-6 div.sk-label-container {text-align: center;}#sk-container-id-6 div.sk-container {/* jupyter's `normalize.less` sets `[hidden] { display: none; }` but bootstrap.min.css set `[hidden] { display: none !important; }` so we also need the `!important` here to be able to override the default hidden behavior on the sphinx rendered scikit-learn.org. See: https://github.com/scikit-learn/scikit-learn/issues/21755 */display: inline-block !important;position: relative;}#sk-container-id-6 div.sk-text-repr-fallback {display: none;}</style><div id=\"sk-container-id-6\" class=\"sk-top-container\"><div class=\"sk-text-repr-fallback\"><pre>SVC(C=1, kernel=&#x27;linear&#x27;)</pre><b>In a Jupyter environment, please rerun this cell to show the HTML representation or trust the notebook. <br />On GitHub, the HTML representation is unable to render, please try loading this page with nbviewer.org.</b></div><div class=\"sk-container\" hidden><div class=\"sk-item\"><div class=\"sk-estimator sk-toggleable\"><input class=\"sk-toggleable__control sk-hidden--visually\" id=\"sk-estimator-id-6\" type=\"checkbox\" checked><label for=\"sk-estimator-id-6\" class=\"sk-toggleable__label sk-toggleable__label-arrow\">SVC</label><div class=\"sk-toggleable__content\"><pre>SVC(C=1, kernel=&#x27;linear&#x27;)</pre></div></div></div></div></div>"
      ],
      "text/plain": [
       "SVC(C=1, kernel='linear')"
      ]
     },
     "execution_count": 167,
     "metadata": {},
     "output_type": "execute_result"
    }
   ],
   "source": [
    "SVMClassifier = SVC(kernel='linear', C=1) \n",
    "SVMClassifier.fit(X_train, y_train)"
   ]
  },
  {
   "cell_type": "code",
   "execution_count": 168,
   "id": "c51418bd",
   "metadata": {},
   "outputs": [
    {
     "name": "stdout",
     "output_type": "stream",
     "text": [
      "Validation set Accuracy: 0.9704314105671352\n"
     ]
    }
   ],
   "source": [
    "y_pred = SVMClassifier.predict(X_validation)\n",
    "\n",
    "# Step 7: Evaluate the classifier\n",
    "accuracy = accuracy_score(y_validaation, y_pred)\n",
    "print(f\"Validation set Accuracy: {accuracy}\")"
   ]
  },
  {
   "cell_type": "code",
   "execution_count": 171,
   "id": "52a8c4ce",
   "metadata": {},
   "outputs": [
    {
     "name": "stdout",
     "output_type": "stream",
     "text": [
      "Test dataset Accuracy: 0.9704314105671352\n"
     ]
    }
   ],
   "source": [
    "# Make predictions on the test set\n",
    "y_pred = SVMClassifier.predict(X_test)\n",
    "\n",
    "# Step 7: Evaluate the classifier\n",
    "accuracy = accuracy_score(y_test, y_pred)\n",
    "print(f\"Test dataset Accuracy: {accuracy}\")"
   ]
  },
  {
   "cell_type": "markdown",
   "id": "08725282",
   "metadata": {},
   "source": [
    "#### k-Nearest Neighbour"
   ]
  },
  {
   "cell_type": "markdown",
   "id": "79538ec0",
   "metadata": {},
   "source": [
    "We are applying the KNN Classifier on the training data. We are taking the k=3, but we get the accuracy 95.00%. Then we applied the methods to find the value of k and then again apply the KNN on the data with variable k like 4,8,15, etc."
   ]
  },
  {
   "cell_type": "code",
   "execution_count": 170,
   "id": "a0f4b98e",
   "metadata": {},
   "outputs": [
    {
     "data": {
      "text/html": [
       "<style>#sk-container-id-7 {color: black;}#sk-container-id-7 pre{padding: 0;}#sk-container-id-7 div.sk-toggleable {background-color: white;}#sk-container-id-7 label.sk-toggleable__label {cursor: pointer;display: block;width: 100%;margin-bottom: 0;padding: 0.3em;box-sizing: border-box;text-align: center;}#sk-container-id-7 label.sk-toggleable__label-arrow:before {content: \"▸\";float: left;margin-right: 0.25em;color: #696969;}#sk-container-id-7 label.sk-toggleable__label-arrow:hover:before {color: black;}#sk-container-id-7 div.sk-estimator:hover label.sk-toggleable__label-arrow:before {color: black;}#sk-container-id-7 div.sk-toggleable__content {max-height: 0;max-width: 0;overflow: hidden;text-align: left;background-color: #f0f8ff;}#sk-container-id-7 div.sk-toggleable__content pre {margin: 0.2em;color: black;border-radius: 0.25em;background-color: #f0f8ff;}#sk-container-id-7 input.sk-toggleable__control:checked~div.sk-toggleable__content {max-height: 200px;max-width: 100%;overflow: auto;}#sk-container-id-7 input.sk-toggleable__control:checked~label.sk-toggleable__label-arrow:before {content: \"▾\";}#sk-container-id-7 div.sk-estimator input.sk-toggleable__control:checked~label.sk-toggleable__label {background-color: #d4ebff;}#sk-container-id-7 div.sk-label input.sk-toggleable__control:checked~label.sk-toggleable__label {background-color: #d4ebff;}#sk-container-id-7 input.sk-hidden--visually {border: 0;clip: rect(1px 1px 1px 1px);clip: rect(1px, 1px, 1px, 1px);height: 1px;margin: -1px;overflow: hidden;padding: 0;position: absolute;width: 1px;}#sk-container-id-7 div.sk-estimator {font-family: monospace;background-color: #f0f8ff;border: 1px dotted black;border-radius: 0.25em;box-sizing: border-box;margin-bottom: 0.5em;}#sk-container-id-7 div.sk-estimator:hover {background-color: #d4ebff;}#sk-container-id-7 div.sk-parallel-item::after {content: \"\";width: 100%;border-bottom: 1px solid gray;flex-grow: 1;}#sk-container-id-7 div.sk-label:hover label.sk-toggleable__label {background-color: #d4ebff;}#sk-container-id-7 div.sk-serial::before {content: \"\";position: absolute;border-left: 1px solid gray;box-sizing: border-box;top: 0;bottom: 0;left: 50%;z-index: 0;}#sk-container-id-7 div.sk-serial {display: flex;flex-direction: column;align-items: center;background-color: white;padding-right: 0.2em;padding-left: 0.2em;position: relative;}#sk-container-id-7 div.sk-item {position: relative;z-index: 1;}#sk-container-id-7 div.sk-parallel {display: flex;align-items: stretch;justify-content: center;background-color: white;position: relative;}#sk-container-id-7 div.sk-item::before, #sk-container-id-7 div.sk-parallel-item::before {content: \"\";position: absolute;border-left: 1px solid gray;box-sizing: border-box;top: 0;bottom: 0;left: 50%;z-index: -1;}#sk-container-id-7 div.sk-parallel-item {display: flex;flex-direction: column;z-index: 1;position: relative;background-color: white;}#sk-container-id-7 div.sk-parallel-item:first-child::after {align-self: flex-end;width: 50%;}#sk-container-id-7 div.sk-parallel-item:last-child::after {align-self: flex-start;width: 50%;}#sk-container-id-7 div.sk-parallel-item:only-child::after {width: 0;}#sk-container-id-7 div.sk-dashed-wrapped {border: 1px dashed gray;margin: 0 0.4em 0.5em 0.4em;box-sizing: border-box;padding-bottom: 0.4em;background-color: white;}#sk-container-id-7 div.sk-label label {font-family: monospace;font-weight: bold;display: inline-block;line-height: 1.2em;}#sk-container-id-7 div.sk-label-container {text-align: center;}#sk-container-id-7 div.sk-container {/* jupyter's `normalize.less` sets `[hidden] { display: none; }` but bootstrap.min.css set `[hidden] { display: none !important; }` so we also need the `!important` here to be able to override the default hidden behavior on the sphinx rendered scikit-learn.org. See: https://github.com/scikit-learn/scikit-learn/issues/21755 */display: inline-block !important;position: relative;}#sk-container-id-7 div.sk-text-repr-fallback {display: none;}</style><div id=\"sk-container-id-7\" class=\"sk-top-container\"><div class=\"sk-text-repr-fallback\"><pre>KNeighborsClassifier(n_neighbors=3, weights=&#x27;distance&#x27;)</pre><b>In a Jupyter environment, please rerun this cell to show the HTML representation or trust the notebook. <br />On GitHub, the HTML representation is unable to render, please try loading this page with nbviewer.org.</b></div><div class=\"sk-container\" hidden><div class=\"sk-item\"><div class=\"sk-estimator sk-toggleable\"><input class=\"sk-toggleable__control sk-hidden--visually\" id=\"sk-estimator-id-7\" type=\"checkbox\" checked><label for=\"sk-estimator-id-7\" class=\"sk-toggleable__label sk-toggleable__label-arrow\">KNeighborsClassifier</label><div class=\"sk-toggleable__content\"><pre>KNeighborsClassifier(n_neighbors=3, weights=&#x27;distance&#x27;)</pre></div></div></div></div></div>"
      ],
      "text/plain": [
       "KNeighborsClassifier(n_neighbors=3, weights='distance')"
      ]
     },
     "execution_count": 170,
     "metadata": {},
     "output_type": "execute_result"
    }
   ],
   "source": [
    "knnFinal = KNeighborsClassifier(n_neighbors=3, weights='distance')  \n",
    "knnFinal.fit(X_train, y_train)"
   ]
  },
  {
   "cell_type": "code",
   "execution_count": 172,
   "id": "202d4b30",
   "metadata": {},
   "outputs": [
    {
     "name": "stdout",
     "output_type": "stream",
     "text": [
      "Validation set Accuracy: 0.9500727096461464\n"
     ]
    }
   ],
   "source": [
    "y_pred = knnFinal.predict(X_validation)\n",
    "\n",
    "accuracy = accuracy_score(y_validaation, y_pred)\n",
    "print(f\"Validation set Accuracy: {accuracy}\")"
   ]
  },
  {
   "cell_type": "code",
   "execution_count": 173,
   "id": "2a291075",
   "metadata": {},
   "outputs": [
    {
     "name": "stdout",
     "output_type": "stream",
     "text": [
      "Test dataset Accuracy: 0.9500727096461464\n"
     ]
    }
   ],
   "source": [
    "y_pred = knnFinal.predict(X_test)\n",
    "\n",
    "accuracy = accuracy_score(y_test, y_pred)\n",
    "print(f\"Test dataset Accuracy: {accuracy}\")"
   ]
  },
  {
   "cell_type": "markdown",
   "id": "c62e26bd",
   "metadata": {},
   "source": [
    "#### Method to select n_neighbours "
   ]
  },
  {
   "cell_type": "markdown",
   "id": "9595921e",
   "metadata": {},
   "source": [
    "Here, we have checked the methods to select n_neighbours (1) 5-fold cross-validation and (2) Validation curve. In 1st we got k=1, we can't take 1 neighbour. Then in 2nd, we got the points 3 and 7 where the graph line is changing. So we have checked for both 3 and 7 as n_neighbour and got the accuracy of k-NN 95.00% and 95.83% respectively. We also checked for n=4,6,8,15 but we got the same 95.83% accuracy. So here, we are considering the n=7 for the highest accuracy in k-NN."
   ]
  },
  {
   "cell_type": "markdown",
   "id": "8996e259",
   "metadata": {},
   "source": [
    "##### 5-fold cross-valdation"
   ]
  },
  {
   "cell_type": "code",
   "execution_count": 152,
   "id": "457eefa1",
   "metadata": {},
   "outputs": [
    {
     "data": {
      "text/plain": [
       "1"
      ]
     },
     "execution_count": 152,
     "metadata": {},
     "output_type": "execute_result"
    }
   ],
   "source": [
    "param_grid = {'n_neighbors': [1, 3, 5, 7, 9]}  \n",
    "knn = KNeighborsClassifier(weights='distance')\n",
    "grid_search = GridSearchCV(knn, param_grid, cv=5)  # 5-fold cross-validation\n",
    "grid_search.fit(X, y)\n",
    "\n",
    "best_n_neighbors = grid_search.best_params_['n_neighbors']\n",
    "best_n_neighbors"
   ]
  },
  {
   "cell_type": "markdown",
   "id": "9cee75d8",
   "metadata": {},
   "source": [
    "##### Validation Curve "
   ]
  },
  {
   "cell_type": "code",
   "execution_count": 153,
   "id": "f1a014f5",
   "metadata": {},
   "outputs": [],
   "source": [
    "# Define the range of n_neighbors values\n",
    "param_range = [1, 3, 5, 7, 9, 11, 13, 15]\n",
    "\n",
    "# Calculate validation curve\n",
    "train_scores, test_scores = validation_curve(\n",
    "    KNeighborsClassifier(weights='distance'), X, y,\n",
    "    param_name='n_neighbors', param_range=param_range, cv=5\n",
    ")"
   ]
  },
  {
   "cell_type": "code",
   "execution_count": 154,
   "id": "4bc06dcd",
   "metadata": {},
   "outputs": [
    {
     "data": {
      "image/png": "[encoded data removed]",
      "text/plain": [
       "<Figure size 1000x600 with 1 Axes>"
      ]
     },
     "metadata": {},
     "output_type": "display_data"
    }
   ],
   "source": [
    "# Calculate mean and standard deviation of training and test scores\n",
    "train_mean = np.mean(train_scores, axis=1)\n",
    "train_std = np.std(train_scores, axis=1)\n",
    "test_mean = np.mean(test_scores, axis=1)\n",
    "test_std = np.std(test_scores, axis=1)\n",
    "\n",
    "# Plot validation curve\n",
    "plt.figure(figsize=(10, 6))\n",
    "plt.plot(param_range, train_mean, label='Training score', color='blue', marker='o')\n",
    "plt.fill_between(param_range, train_mean - train_std, train_mean + train_std, alpha=0.15, color='blue')\n",
    "\n",
    "plt.plot(param_range, test_mean, label='Validation score', color='red', marker='o')\n",
    "plt.fill_between(param_range, test_mean - test_std, test_mean + test_std, alpha=0.15, color='red')\n",
    "\n",
    "plt.title('Validation Curve for k-NN')\n",
    "plt.xlabel('Number of Neighbors (k)')\n",
    "plt.ylabel('Accuracy Score')\n",
    "plt.legend(loc='best')\n",
    "plt.show()"
   ]
  },
  {
   "cell_type": "code",
   "execution_count": 175,
   "id": "3e76ff4d",
   "metadata": {},
   "outputs": [
    {
     "name": "stdout",
     "output_type": "stream",
     "text": [
      "Accuracy: 0.9583131362094037\n"
     ]
    }
   ],
   "source": [
    "knn = KNeighborsClassifier(n_neighbors=7, weights='distance')\n",
    "knn.fit(X_train, y_train)\n",
    "\n",
    "y_pred = knn.predict(X_validation)\n",
    "\n",
    "accuracy = accuracy_score(y_validaation, y_pred)\n",
    "print(f\"Accuracy: {accuracy}\")"
   ]
  },
  {
   "cell_type": "code",
   "execution_count": 180,
   "id": "3268d67c",
   "metadata": {},
   "outputs": [
    {
     "name": "stdout",
     "output_type": "stream",
     "text": [
      "Accuracy: 0.9583131362094037\n"
     ]
    }
   ],
   "source": [
    "knn2 = KNeighborsClassifier(n_neighbors=8, weights='distance')\n",
    "knn2.fit(X_train, y_train)\n",
    "\n",
    "y_pred = knn.predict(X_validation)\n",
    "\n",
    "accuracy = accuracy_score(y_validaation, y_pred)\n",
    "print(f\"Accuracy: {accuracy}\")"
   ]
  },
  {
   "cell_type": "markdown",
   "id": "3562a237",
   "metadata": {},
   "source": [
    "Now, to improve the accuracy of Random Forest Classifier we extracted the feature called Gabor Kernel and then applied the model and we got the 96.21% accuracy."
   ]
  },
  {
   "cell_type": "markdown",
   "id": "0b8f8d32",
   "metadata": {},
   "source": [
    "#### Gabor Kernel Feature"
   ]
  },
  {
   "cell_type": "code",
   "execution_count": 181,
   "id": "1b54f2fd",
   "metadata": {},
   "outputs": [],
   "source": [
    "def load_data(data_dir):\n",
    "    features = []\n",
    "    labels = []\n",
    "    for folder in os.listdir(data_dir):\n",
    "        label = folder\n",
    "        folder_path = os.path.join(data_dir, folder)\n",
    "        for filename in os.listdir(folder_path):\n",
    "            image_path = os.path.join(folder_path, filename)\n",
    "            image = cv2.imread(image_path, cv2.IMREAD_GRAYSCALE)\n",
    "            if image is not None:\n",
    "                resized_image = cv2.resize(image, (64, 64))\n",
    "\n",
    "                k_size = 5\n",
    "                sigma = 3\n",
    "                theta = 1*np.pi/4\n",
    "                lemda = 1*np.pi/4\n",
    "                gamma = 0.5\n",
    "                phi = 0\n",
    "\n",
    "                kernel = cv2.getGaborKernel((k_size,k_size), sigma, theta, lemda, phi, ktype = cv2.CV_32F)\n",
    "\n",
    "                img3 = cv2.filter2D(resized_image, cv2.CV_8UC3, kernel)\n",
    "                img4 = img3.reshape(-1)\n",
    "\n",
    "                # Append features and labels\n",
    "                features.append(img4)\n",
    "                labels.append(folder)\n",
    "\n",
    "            else:\n",
    "                print(f\"Error: Image {image_path} not loaded.\")\n",
    "    return features, labels\n",
    "\n",
    "# Load training and testing data\n",
    "training_data_dir = 'E:/IIIT Delhi/ML/Project/data/training_data/'\n",
    "testing_data_dir = 'E:/IIIT Delhi/ML/Project/data/testing_data/'\n",
    "train_images_gabor, train_labels_gabor = load_data(training_data_dir)\n",
    "test_images_gabor, test_labels_gabor = load_data(testing_data_dir)"
   ]
  },
  {
   "cell_type": "code",
   "execution_count": 182,
   "id": "53e4edce",
   "metadata": {},
   "outputs": [],
   "source": [
    "X_gabor = np.array(train_images)\n",
    "y_gabor = np.array(train_labels)\n",
    "X_test_gabor = np.array(test_images)\n",
    "y_test_gabor = np.array(test_labels)\n",
    "\n",
    "X_train_gabor, X_validation_gabor, y_train_gabor, y_validaation_gabor = train_test_split(X_gabor, y_gabor, test_size=0.1, random_state=42)"
   ]
  },
  {
   "cell_type": "code",
   "execution_count": 183,
   "id": "99352e6c",
   "metadata": {},
   "outputs": [
    {
     "data": {
      "text/html": [
       "<style>#sk-container-id-8 {color: black;}#sk-container-id-8 pre{padding: 0;}#sk-container-id-8 div.sk-toggleable {background-color: white;}#sk-container-id-8 label.sk-toggleable__label {cursor: pointer;display: block;width: 100%;margin-bottom: 0;padding: 0.3em;box-sizing: border-box;text-align: center;}#sk-container-id-8 label.sk-toggleable__label-arrow:before {content: \"▸\";float: left;margin-right: 0.25em;color: #696969;}#sk-container-id-8 label.sk-toggleable__label-arrow:hover:before {color: black;}#sk-container-id-8 div.sk-estimator:hover label.sk-toggleable__label-arrow:before {color: black;}#sk-container-id-8 div.sk-toggleable__content {max-height: 0;max-width: 0;overflow: hidden;text-align: left;background-color: #f0f8ff;}#sk-container-id-8 div.sk-toggleable__content pre {margin: 0.2em;color: black;border-radius: 0.25em;background-color: #f0f8ff;}#sk-container-id-8 input.sk-toggleable__control:checked~div.sk-toggleable__content {max-height: 200px;max-width: 100%;overflow: auto;}#sk-container-id-8 input.sk-toggleable__control:checked~label.sk-toggleable__label-arrow:before {content: \"▾\";}#sk-container-id-8 div.sk-estimator input.sk-toggleable__control:checked~label.sk-toggleable__label {background-color: #d4ebff;}#sk-container-id-8 div.sk-label input.sk-toggleable__control:checked~label.sk-toggleable__label {background-color: #d4ebff;}#sk-container-id-8 input.sk-hidden--visually {border: 0;clip: rect(1px 1px 1px 1px);clip: rect(1px, 1px, 1px, 1px);height: 1px;margin: -1px;overflow: hidden;padding: 0;position: absolute;width: 1px;}#sk-container-id-8 div.sk-estimator {font-family: monospace;background-color: #f0f8ff;border: 1px dotted black;border-radius: 0.25em;box-sizing: border-box;margin-bottom: 0.5em;}#sk-container-id-8 div.sk-estimator:hover {background-color: #d4ebff;}#sk-container-id-8 div.sk-parallel-item::after {content: \"\";width: 100%;border-bottom: 1px solid gray;flex-grow: 1;}#sk-container-id-8 div.sk-label:hover label.sk-toggleable__label {background-color: #d4ebff;}#sk-container-id-8 div.sk-serial::before {content: \"\";position: absolute;border-left: 1px solid gray;box-sizing: border-box;top: 0;bottom: 0;left: 50%;z-index: 0;}#sk-container-id-8 div.sk-serial {display: flex;flex-direction: column;align-items: center;background-color: white;padding-right: 0.2em;padding-left: 0.2em;position: relative;}#sk-container-id-8 div.sk-item {position: relative;z-index: 1;}#sk-container-id-8 div.sk-parallel {display: flex;align-items: stretch;justify-content: center;background-color: white;position: relative;}#sk-container-id-8 div.sk-item::before, #sk-container-id-8 div.sk-parallel-item::before {content: \"\";position: absolute;border-left: 1px solid gray;box-sizing: border-box;top: 0;bottom: 0;left: 50%;z-index: -1;}#sk-container-id-8 div.sk-parallel-item {display: flex;flex-direction: column;z-index: 1;position: relative;background-color: white;}#sk-container-id-8 div.sk-parallel-item:first-child::after {align-self: flex-end;width: 50%;}#sk-container-id-8 div.sk-parallel-item:last-child::after {align-self: flex-start;width: 50%;}#sk-container-id-8 div.sk-parallel-item:only-child::after {width: 0;}#sk-container-id-8 div.sk-dashed-wrapped {border: 1px dashed gray;margin: 0 0.4em 0.5em 0.4em;box-sizing: border-box;padding-bottom: 0.4em;background-color: white;}#sk-container-id-8 div.sk-label label {font-family: monospace;font-weight: bold;display: inline-block;line-height: 1.2em;}#sk-container-id-8 div.sk-label-container {text-align: center;}#sk-container-id-8 div.sk-container {/* jupyter's `normalize.less` sets `[hidden] { display: none; }` but bootstrap.min.css set `[hidden] { display: none !important; }` so we also need the `!important` here to be able to override the default hidden behavior on the sphinx rendered scikit-learn.org. See: https://github.com/scikit-learn/scikit-learn/issues/21755 */display: inline-block !important;position: relative;}#sk-container-id-8 div.sk-text-repr-fallback {display: none;}</style><div id=\"sk-container-id-8\" class=\"sk-top-container\"><div class=\"sk-text-repr-fallback\"><pre>RandomForestClassifier(random_state=42)</pre><b>In a Jupyter environment, please rerun this cell to show the HTML representation or trust the notebook. <br />On GitHub, the HTML representation is unable to render, please try loading this page with nbviewer.org.</b></div><div class=\"sk-container\" hidden><div class=\"sk-item\"><div class=\"sk-estimator sk-toggleable\"><input class=\"sk-toggleable__control sk-hidden--visually\" id=\"sk-estimator-id-8\" type=\"checkbox\" checked><label for=\"sk-estimator-id-8\" class=\"sk-toggleable__label sk-toggleable__label-arrow\">RandomForestClassifier</label><div class=\"sk-toggleable__content\"><pre>RandomForestClassifier(random_state=42)</pre></div></div></div></div></div>"
      ],
      "text/plain": [
       "RandomForestClassifier(random_state=42)"
      ]
     },
     "execution_count": 183,
     "metadata": {},
     "output_type": "execute_result"
    }
   ],
   "source": [
    "clf = RandomForestClassifier(n_estimators=100, random_state=42)\n",
    "clf.fit(X_train_gabor, y_train_gabor)"
   ]
  },
  {
   "cell_type": "code",
   "execution_count": 184,
   "id": "24dd6b56",
   "metadata": {},
   "outputs": [
    {
     "name": "stdout",
     "output_type": "stream",
     "text": [
      "Validation data Accuracy: 0.9621909840038778\n"
     ]
    }
   ],
   "source": [
    "y_pred = clf.predict(X_validation_gabor)\n",
    "\n",
    "accuracy = accuracy_score(y_validaation_gabor, y_pred)\n",
    "print(f\"Validation data Accuracy: {accuracy}\")"
   ]
  },
  {
   "cell_type": "code",
   "execution_count": 185,
   "id": "a233c299",
   "metadata": {},
   "outputs": [
    {
     "name": "stdout",
     "output_type": "stream",
     "text": [
      "Test dataset Accuracy: 0.9621909840038778\n"
     ]
    }
   ],
   "source": [
    "# For test dataset\n",
    "\n",
    "y_pred = clf.predict(X_test)\n",
    "\n",
    "accuracy = accuracy_score(y_test, y_pred)\n",
    "print(f\"Test dataset Accuracy: {accuracy}\")"
   ]
  },
  {
   "cell_type": "markdown",
   "id": "335f0abd",
   "metadata": {},
   "source": [
    "Now, again to improve the accuracy we have extracted two features called HOG Feature and Gabor Kernel and then after appending then we again apply the Random Forest Classifier on the data and got the accuracy of 98.71%."
   ]
  },
  {
   "cell_type": "markdown",
   "id": "9ebde3ac",
   "metadata": {},
   "source": [
    "#### Random Forest with hog features and gabor kernel features"
   ]
  },
  {
   "cell_type": "code",
   "execution_count": 187,
   "id": "5d5327a8",
   "metadata": {},
   "outputs": [],
   "source": [
    "def load_data(data_dir):\n",
    "    features = []\n",
    "    labels = []\n",
    "    image_files = []\n",
    "    for folder in os.listdir(data_dir):\n",
    "        label = folder\n",
    "        folder_path = os.path.join(data_dir, folder)\n",
    "        for filename in os.listdir(folder_path):\n",
    "            image_path = os.path.join(folder_path, filename)\n",
    "            image_files.append(image_path)\n",
    "            image = cv2.imread(image_path, cv2.IMREAD_GRAYSCALE)\n",
    "            if image is not None:\n",
    "                resized_image = cv2.resize(image, (64, 64))\n",
    "                \n",
    "                hog_features = hog(resized_image, orientations=8, pixels_per_cell=(4, 4), cells_per_block=(1, 1))\n",
    "\n",
    "                k_size = 5\n",
    "                sigma = 3\n",
    "                theta = 1*np.pi/4\n",
    "                lemda = 1*np.pi/4\n",
    "                gamma = 0.5\n",
    "                phi = 0\n",
    "\n",
    "                kernel = cv2.getGaborKernel((k_size,k_size), sigma, theta, lemda, phi, ktype = cv2.CV_32F)\n",
    "\n",
    "                img2 = cv2.filter2D(resized_image, cv2.CV_8UC3, kernel)\n",
    "                img3 = img2.reshape(-1)\n",
    "                \n",
    "                concatenated_array = np.concatenate((hog_features, img3), axis=0)\n",
    "                \n",
    "                # Append features and labels\n",
    "                features.append(concatenated_array)\n",
    "                labels.append(folder)\n",
    "\n",
    "            else:\n",
    "                print(f\"Error: Image {image_path} not loaded.\")\n",
    "    return features, labels, image_files\n",
    "\n",
    "# Load training and testing data\n",
    "training_data_dir = 'E:/IIIT Delhi/ML/Project/data/training_data/'\n",
    "testing_data_dir = 'E:/IIIT Delhi/ML/Project/data/testing_data/'\n",
    "train_images_hg, train_labels_hg, train_files_hg = load_data(training_data_dir)\n",
    "test_images_hg, test_labels_hg, test_files_hg = load_data(testing_data_dir)"
   ]
  },
  {
   "cell_type": "code",
   "execution_count": 188,
   "id": "b3b7c284",
   "metadata": {},
   "outputs": [],
   "source": [
    "X_hg = np.array(train_images_hg)\n",
    "y_hg = np.array(train_labels_hg)\n",
    "X_test = np.array(test_images_hg)\n",
    "y_test = np.array(test_labels_hg)\n",
    "\n",
    "X_train_hg, X_validation_hg, y_train_hg, y_validaation_hg = train_test_split(X_hg, y_hg, test_size=0.1, random_state=42)"
   ]
  },
  {
   "cell_type": "code",
   "execution_count": 194,
   "id": "57f43427",
   "metadata": {},
   "outputs": [
    {
     "data": {
      "text/html": [
       "<style>#sk-container-id-11 {color: black;}#sk-container-id-11 pre{padding: 0;}#sk-container-id-11 div.sk-toggleable {background-color: white;}#sk-container-id-11 label.sk-toggleable__label {cursor: pointer;display: block;width: 100%;margin-bottom: 0;padding: 0.3em;box-sizing: border-box;text-align: center;}#sk-container-id-11 label.sk-toggleable__label-arrow:before {content: \"▸\";float: left;margin-right: 0.25em;color: #696969;}#sk-container-id-11 label.sk-toggleable__label-arrow:hover:before {color: black;}#sk-container-id-11 div.sk-estimator:hover label.sk-toggleable__label-arrow:before {color: black;}#sk-container-id-11 div.sk-toggleable__content {max-height: 0;max-width: 0;overflow: hidden;text-align: left;background-color: #f0f8ff;}#sk-container-id-11 div.sk-toggleable__content pre {margin: 0.2em;color: black;border-radius: 0.25em;background-color: #f0f8ff;}#sk-container-id-11 input.sk-toggleable__control:checked~div.sk-toggleable__content {max-height: 200px;max-width: 100%;overflow: auto;}#sk-container-id-11 input.sk-toggleable__control:checked~label.sk-toggleable__label-arrow:before {content: \"▾\";}#sk-container-id-11 div.sk-estimator input.sk-toggleable__control:checked~label.sk-toggleable__label {background-color: #d4ebff;}#sk-container-id-11 div.sk-label input.sk-toggleable__control:checked~label.sk-toggleable__label {background-color: #d4ebff;}#sk-container-id-11 input.sk-hidden--visually {border: 0;clip: rect(1px 1px 1px 1px);clip: rect(1px, 1px, 1px, 1px);height: 1px;margin: -1px;overflow: hidden;padding: 0;position: absolute;width: 1px;}#sk-container-id-11 div.sk-estimator {font-family: monospace;background-color: #f0f8ff;border: 1px dotted black;border-radius: 0.25em;box-sizing: border-box;margin-bottom: 0.5em;}#sk-container-id-11 div.sk-estimator:hover {background-color: #d4ebff;}#sk-container-id-11 div.sk-parallel-item::after {content: \"\";width: 100%;border-bottom: 1px solid gray;flex-grow: 1;}#sk-container-id-11 div.sk-label:hover label.sk-toggleable__label {background-color: #d4ebff;}#sk-container-id-11 div.sk-serial::before {content: \"\";position: absolute;border-left: 1px solid gray;box-sizing: border-box;top: 0;bottom: 0;left: 50%;z-index: 0;}#sk-container-id-11 div.sk-serial {display: flex;flex-direction: column;align-items: center;background-color: white;padding-right: 0.2em;padding-left: 0.2em;position: relative;}#sk-container-id-11 div.sk-item {position: relative;z-index: 1;}#sk-container-id-11 div.sk-parallel {display: flex;align-items: stretch;justify-content: center;background-color: white;position: relative;}#sk-container-id-11 div.sk-item::before, #sk-container-id-11 div.sk-parallel-item::before {content: \"\";position: absolute;border-left: 1px solid gray;box-sizing: border-box;top: 0;bottom: 0;left: 50%;z-index: -1;}#sk-container-id-11 div.sk-parallel-item {display: flex;flex-direction: column;z-index: 1;position: relative;background-color: white;}#sk-container-id-11 div.sk-parallel-item:first-child::after {align-self: flex-end;width: 50%;}#sk-container-id-11 div.sk-parallel-item:last-child::after {align-self: flex-start;width: 50%;}#sk-container-id-11 div.sk-parallel-item:only-child::after {width: 0;}#sk-container-id-11 div.sk-dashed-wrapped {border: 1px dashed gray;margin: 0 0.4em 0.5em 0.4em;box-sizing: border-box;padding-bottom: 0.4em;background-color: white;}#sk-container-id-11 div.sk-label label {font-family: monospace;font-weight: bold;display: inline-block;line-height: 1.2em;}#sk-container-id-11 div.sk-label-container {text-align: center;}#sk-container-id-11 div.sk-container {/* jupyter's `normalize.less` sets `[hidden] { display: none; }` but bootstrap.min.css set `[hidden] { display: none !important; }` so we also need the `!important` here to be able to override the default hidden behavior on the sphinx rendered scikit-learn.org. See: https://github.com/scikit-learn/scikit-learn/issues/21755 */display: inline-block !important;position: relative;}#sk-container-id-11 div.sk-text-repr-fallback {display: none;}</style><div id=\"sk-container-id-11\" class=\"sk-top-container\"><div class=\"sk-text-repr-fallback\"><pre>RandomForestClassifier(random_state=42)</pre><b>In a Jupyter environment, please rerun this cell to show the HTML representation or trust the notebook. <br />On GitHub, the HTML representation is unable to render, please try loading this page with nbviewer.org.</b></div><div class=\"sk-container\" hidden><div class=\"sk-item\"><div class=\"sk-estimator sk-toggleable\"><input class=\"sk-toggleable__control sk-hidden--visually\" id=\"sk-estimator-id-11\" type=\"checkbox\" checked><label for=\"sk-estimator-id-11\" class=\"sk-toggleable__label sk-toggleable__label-arrow\">RandomForestClassifier</label><div class=\"sk-toggleable__content\"><pre>RandomForestClassifier(random_state=42)</pre></div></div></div></div></div>"
      ],
      "text/plain": [
       "RandomForestClassifier(random_state=42)"
      ]
     },
     "execution_count": 194,
     "metadata": {},
     "output_type": "execute_result"
    }
   ],
   "source": [
    "RDFclf = RandomForestClassifier(n_estimators=100, random_state=42)\n",
    "RDFclf.fit(X_train_hg, y_train_hg)"
   ]
  },
  {
   "cell_type": "code",
   "execution_count": 195,
   "id": "ead839d1",
   "metadata": {},
   "outputs": [
    {
     "name": "stdout",
     "output_type": "stream",
     "text": [
      "Validation set Accuracy: 0.9578284052350945\n"
     ]
    }
   ],
   "source": [
    "y_pred = RDFclf.predict(X_validation_hg)\n",
    "\n",
    "accuracy = accuracy_score(y_validaation_hg, y_pred)\n",
    "print(f\"Validation set Accuracy: {accuracy}\")"
   ]
  },
  {
   "cell_type": "code",
   "execution_count": 197,
   "id": "f1f666d0",
   "metadata": {},
   "outputs": [
    {
     "name": "stdout",
     "output_type": "stream",
     "text": [
      "Test Dataset Accuracy: 0.9871031746031746\n"
     ]
    }
   ],
   "source": [
    "y_pred = RDFclf.predict(X_test)\n",
    "\n",
    "accuracy = accuracy_score(y_test, y_pred)\n",
    "print(f\"Test Dataset Accuracy: {accuracy}\")"
   ]
  },
  {
   "cell_type": "markdown",
   "id": "37f34852",
   "metadata": {},
   "source": [
    "#### Script for Random Forest Classifier "
   ]
  },
  {
   "cell_type": "code",
   "execution_count": 204,
   "id": "b0af9173",
   "metadata": {},
   "outputs": [
    {
     "name": "stdout",
     "output_type": "stream",
     "text": [
      "E:/IIIT Delhi/ML/Project/data/testing_data/0/28310.png 0\n",
      "E:/IIIT Delhi/ML/Project/data/testing_data/0/28346.png 0\n",
      "E:/IIIT Delhi/ML/Project/data/testing_data/0/28382.png 0\n",
      "E:/IIIT Delhi/ML/Project/data/testing_data/0/28418.png 0\n",
      "E:/IIIT Delhi/ML/Project/data/testing_data/0/28454.png 0\n",
      "E:/IIIT Delhi/ML/Project/data/testing_data/0/28490.png O\n",
      "E:/IIIT Delhi/ML/Project/data/testing_data/0/28526.png O\n",
      "E:/IIIT Delhi/ML/Project/data/testing_data/0/28562.png 0\n",
      "E:/IIIT Delhi/ML/Project/data/testing_data/0/28598.png 0\n",
      "E:/IIIT Delhi/ML/Project/data/testing_data/0/28634.png 0\n",
      "E:/IIIT Delhi/ML/Project/data/testing_data/0/28670.png 0\n",
      "E:/IIIT Delhi/ML/Project/data/testing_data/0/28706.png 0\n",
      "E:/IIIT Delhi/ML/Project/data/testing_data/0/28742.png 0\n",
      "E:/IIIT Delhi/ML/Project/data/testing_data/0/28778.png O\n",
      "E:/IIIT Delhi/ML/Project/data/testing_data/0/28814.png 0\n",
      "E:/IIIT Delhi/ML/Project/data/testing_data/0/28850.png 0\n",
      "E:/IIIT Delhi/ML/Project/data/testing_data/0/28886.png 0\n",
      "E:/IIIT Delhi/ML/Project/data/testing_data/0/28922.png 0\n",
      "E:/IIIT Delhi/ML/Project/data/testing_data/0/28958.png 0\n",
      "E:/IIIT Delhi/ML/Project/data/testing_data/0/28994.png 0\n",
      "E:/IIIT Delhi/ML/Project/data/testing_data/0/29030.png 0\n",
      "E:/IIIT Delhi/ML/Project/data/testing_data/0/29066.png 0\n",
      "E:/IIIT Delhi/ML/Project/data/testing_data/0/29102.png 0\n",
      "E:/IIIT Delhi/ML/Project/data/testing_data/0/29138.png 0\n",
      "E:/IIIT Delhi/ML/Project/data/testing_data/0/29174.png 0\n",
      "E:/IIIT Delhi/ML/Project/data/testing_data/0/29210.png O\n",
      "E:/IIIT Delhi/ML/Project/data/testing_data/0/29246.png O\n",
      "E:/IIIT Delhi/ML/Project/data/testing_data/0/29282.png 0\n"
     ]
    }
   ],
   "source": [
    "def load_data_for_test(data_dir):\n",
    "    features = []\n",
    "    labels = []\n",
    "    image_files = []\n",
    "    for filename in os.listdir(data_dir):\n",
    "        image_path = os.path.join(data_dir, filename)\n",
    "        image_files.append(image_path)\n",
    "        image = cv2.imread(image_path, cv2.IMREAD_GRAYSCALE)\n",
    "        if image is not None:\n",
    "            resized_image = cv2.resize(image, (64, 64))\n",
    "\n",
    "            hog_features = hog(resized_image, orientations=8, pixels_per_cell=(4, 4), cells_per_block=(1, 1))\n",
    "\n",
    "            k_size = 5\n",
    "            sigma = 3\n",
    "            theta = 1*np.pi/4\n",
    "            lemda = 1*np.pi/4\n",
    "            gamma = 0.5\n",
    "            phi = 0\n",
    "\n",
    "            kernel = cv2.getGaborKernel((k_size,k_size), sigma, theta, lemda, phi, ktype = cv2.CV_32F)\n",
    "\n",
    "            img2 = cv2.filter2D(resized_image, cv2.CV_8UC3, kernel)\n",
    "            img3 = img2.reshape(-1)\n",
    "\n",
    "            concatenated_array = np.concatenate((hog_features, img3), axis=0)\n",
    "\n",
    "            # Append features and labels\n",
    "            features.append(concatenated_array)\n",
    "\n",
    "        else:\n",
    "            print(f\"Error: Image {image_path} not loaded.\")\n",
    "    return features, labels, image_files\n",
    "\n",
    "with open(\"Text.txt\", \"r\") as file:\n",
    "    testing_data_dir = file.read()\n",
    "\n",
    "# testing_data_dir = ['E:/IIIT Delhi/ML/Project/data/testing_data/0/','E:/IIIT Delhi/ML/Project/data/testing_data/9/','E:/IIIT Delhi/ML/Project/data/testing_data/J/','E:/IIIT Delhi/ML/Project/data/testing_data/O/']\n",
    "test_images, test_labels, test_files = load_data_for_test(testing_data_dir)\n",
    "\n",
    "X_test = np.array(test_images)\n",
    "y_test = np.array(test_labels)\n",
    "\n",
    "y_pred = RDFclf.predict(X_test)\n",
    "\n",
    "for i in range(len(test_files)):\n",
    "    print(test_files[i],y_pred[i])"
   ]
  },
  {
   "cell_type": "code",
   "execution_count": null,
   "id": "9e524001",
   "metadata": {},
   "outputs": [],
   "source": []
  }
 ],
 "metadata": {
  "kernelspec": {
   "display_name": "Python 3 (ipykernel)",
   "language": "python",
   "name": "python3"
  },
  "language_info": {
   "codemirror_mode": {
    "name": "ipython",
    "version": 3
   },
   "file_extension": ".py",
   "mimetype": "text/x-python",
   "name": "python",
   "nbconvert_exporter": "python",
   "pygments_lexer": "ipython3",
   "version": "3.11.4"
  }
 },
 "nbformat": 4,
 "nbformat_minor": 5
}
