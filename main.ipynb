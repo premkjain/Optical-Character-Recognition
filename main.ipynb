{
 "cells": [
  {
   "cell_type": "code",
   "execution_count": 1,
   "id": "dfdd466d",
   "metadata": {},
   "outputs": [
    {
     "data": {
      "text/html": [
       "        <script type=\"text/javascript\">\n",
       "        window.PlotlyConfig = {MathJaxConfig: 'local'};\n",
       "        if (window.MathJax && window.MathJax.Hub && window.MathJax.Hub.Config) {window.MathJax.Hub.Config({SVG: {font: \"STIX-Web\"}});}\n",
       "        if (typeof require !== 'undefined') {\n",
       "        require.undef(\"plotly\");\n",
       "        requirejs.config({\n",
       "            paths: {\n",
       "                'plotly': ['https://cdn.plot.ly/plotly-2.12.1.min']\n",
       "            }\n",
       "        });\n",
       "        require(['plotly'], function(Plotly) {\n",
       "            window._Plotly = Plotly;\n",
       "        });\n",
       "        }\n",
       "        </script>\n",
       "        "
      ]
     },
     "metadata": {},
     "output_type": "display_data"
    }
   ],
   "source": [
    "import os\n",
    "from os.path import isdir, join\n",
    "from pathlib import Path\n",
    "import pandas as pd\n",
    "\n",
    "import numpy as np\n",
    "from scipy.fftpack import fft\n",
    "from scipy import signal\n",
    "from scipy.io import wavfile\n",
    "import librosa\n",
    "\n",
    "from sklearn.decomposition import PCA\n",
    "\n",
    "import matplotlib.pyplot as plt\n",
    "import seaborn as sns\n",
    "import IPython.display as ipd\n",
    "import librosa.display\n",
    "\n",
    "import plotly.offline as py\n",
    "py.init_notebook_mode(connected=True)\n",
    "import plotly.graph_objs as go\n",
    "import plotly.tools as tls\n",
    "import pandas as pd\n",
    "\n",
    "%matplotlib inline"
   ]
  },
  {
   "cell_type": "code",
   "execution_count": 2,
   "id": "ecd17a56",
   "metadata": {},
   "outputs": [
    {
     "name": "stdout",
     "output_type": "stream",
     "text": [
      "Number of labels: 36\n"
     ]
    }
   ],
   "source": [
    "\n",
    "dirs = [f for f in os.listdir('/Users/samanyukamra/Dropbox/Mac/Documents/downloadss/archive (1)/data/training_data') if isdir(join('/Users/samanyukamra/Dropbox/Mac/Documents/downloadss/archive (1)/data/training_data', f))]\n",
    "dirs.sort()\n",
    "print('Number of labels: ' + str(len(dirs)))"
   ]
  },
  {
   "cell_type": "code",
   "execution_count": 3,
   "id": "10044c19",
   "metadata": {},
   "outputs": [
    {
     "name": "stdout",
     "output_type": "stream",
     "text": [
      "Number of labels: 36\n"
     ]
    }
   ],
   "source": [
    "\n",
    "dirs_1 = [f for f in os.listdir('/Users/samanyukamra/Dropbox/Mac/Documents/downloadss/archive (1)/data/testing_data') if isdir(join('/Users/samanyukamra/Dropbox/Mac/Documents/downloadss/archive (1)/data/testing_data', f))]\n",
    "dirs_1.sort()\n",
    "print('Number of labels: ' + str(len(dirs_1)))"
   ]
  },
  {
   "cell_type": "code",
   "execution_count": 4,
   "id": "cf592ad4",
   "metadata": {},
   "outputs": [],
   "source": [
    "base_dir = '/Users/samanyukamra/Dropbox/Mac/Documents/downloadss/archive (1)/data/training_data'\n",
    "\n",
    "# Lists to store file paths and labels\n",
    "file_paths = []\n",
    "labels = []\n",
    "\n",
    "# Loop through each subfolder\n",
    "for folder in os.listdir(base_dir):\n",
    "    if folder != '_background_noise_' and os.path.isdir(os.path.join(base_dir, folder)):\n",
    "        # Loop through each file in the subfolder\n",
    "        for file in os.listdir(os.path.join(base_dir, folder)):\n",
    "            # Add the file path to the list\n",
    "            file_paths.append(os.path.join(base_dir, folder, file))\n",
    "            # Add the label (folder name) to the list\n",
    "            labels.append(folder)"
   ]
  },
  {
   "cell_type": "code",
   "execution_count": 5,
   "id": "70129c74",
   "metadata": {},
   "outputs": [],
   "source": [
    "from sklearn.model_selection import train_test_split\n",
    "\n",
    "# Split data into training and validation sets\n",
    "# Test size can be adjusted. 0.2 means 20% of the data will be used for validation.\n",
    "X_train, X_val, y_train, y_val = train_test_split(file_paths, labels, test_size=0.1, random_state=24)"
   ]
  },
  {
   "cell_type": "code",
   "execution_count": 6,
   "id": "d9efca03",
   "metadata": {},
   "outputs": [
    {
     "name": "stdout",
     "output_type": "stream",
     "text": [
      "18565\n",
      "18565\n",
      "2063\n",
      "2063\n"
     ]
    }
   ],
   "source": [
    "print(len(X_train))\n",
    "print(len(y_train))\n",
    "print(len(X_val))\n",
    "print(len(y_val))"
   ]
  },
  {
   "cell_type": "code",
   "execution_count": 7,
   "id": "3fa1c619",
   "metadata": {},
   "outputs": [
    {
     "name": "stdout",
     "output_type": "stream",
     "text": [
      "/Users/samanyukamra/Dropbox/Mac/Documents/downloadss/archive (1)/data/training_data/Y/1618.png\n",
      "/Users/samanyukamra/Dropbox/Mac/Documents/downloadss/archive (1)/data/training_data/P/13093.png\n",
      "Y\n",
      "P\n"
     ]
    }
   ],
   "source": [
    "print(X_train[18])\n",
    "print(X_val[18])\n",
    "print(y_train[18])\n",
    "print(y_val[18])"
   ]
  },
  {
   "cell_type": "code",
   "execution_count": 8,
   "id": "fa428d44",
   "metadata": {},
   "outputs": [],
   "source": [
    "test_dir = '/Users/samanyukamra/Dropbox/Mac/Documents/downloadss/archive (1)/data/testing_data'"
   ]
  },
  {
   "cell_type": "code",
   "execution_count": 9,
   "id": "d11a3dee",
   "metadata": {},
   "outputs": [],
   "source": [
    "X_test = []\n",
    "y_test = []\n",
    "\n",
    "for subdir in os.listdir(test_dir):\n",
    "    # Create the full path to the subdirectory\n",
    "    subdir_path = os.path.join(test_dir, subdir)\n",
    "    \n",
    "    # Check if this path is indeed a directory\n",
    "    if os.path.isdir(subdir_path):\n",
    "        # If it is a directory, iterate through all the files in that directory\n",
    "        for file in os.listdir(subdir_path):\n",
    "            # Create the full path to the file and append it to X_test\n",
    "            file_path = os.path.join(subdir_path, file)\n",
    "            X_test.append(file_path)\n",
    "            # Append the directory name (label) to y_test\n",
    "            y_test.append(subdir)  # subdir is the directory name, which is used as the label\n"
   ]
  },
  {
   "cell_type": "code",
   "execution_count": 13,
   "id": "b4bf1a9b",
   "metadata": {},
   "outputs": [
    {
     "name": "stdout",
     "output_type": "stream",
     "text": [
      "0\n",
      "/Users/samanyukamra/Dropbox/Mac/Documents/downloadss/archive (1)/data/testing_data/R/28805.png\n"
     ]
    }
   ],
   "source": [
    "print((y_test[100]))\n",
    "print(X_test[9])"
   ]
  },
  {
   "cell_type": "code",
   "execution_count": 12,
   "id": "fee21946",
   "metadata": {},
   "outputs": [
    {
     "name": "stdout",
     "output_type": "stream",
     "text": [
      "Collecting opencv-python\n",
      "  Obtaining dependency information for opencv-python from https://files.pythonhosted.org/packages/a1/f6/57de91ea40c670527cd47a6548bf2cbedc68cec57c041793b256356abad7/opencv_python-4.8.1.78-cp37-abi3-macosx_11_0_arm64.whl.metadata\n",
      "  Downloading opencv_python-4.8.1.78-cp37-abi3-macosx_11_0_arm64.whl.metadata (19 kB)\n",
      "Requirement already satisfied: numpy>=1.21.2 in ./anaconda3/lib/python3.11/site-packages (from opencv-python) (1.24.3)\n",
      "Downloading opencv_python-4.8.1.78-cp37-abi3-macosx_11_0_arm64.whl (33.1 MB)\n",
      "\u001b[2K   \u001b[90m━━━━━━━━━━━━━━━━━━━━━━━━━━━━━━━━━━━━━━━━\u001b[0m \u001b[32m33.1/33.1 MB\u001b[0m \u001b[31m1.4 MB/s\u001b[0m eta \u001b[36m0:00:00\u001b[0m00:01\u001b[0m00:01\u001b[0m\n",
      "\u001b[?25hInstalling collected packages: opencv-python\n",
      "Successfully installed opencv-python-4.8.1.78\n",
      "Note: you may need to restart the kernel to use updated packages.\n"
     ]
    }
   ],
   "source": [
    "pip install opencv-python\n"
   ]
  },
  {
   "cell_type": "code",
   "execution_count": 14,
   "id": "01c17a7a",
   "metadata": {},
   "outputs": [],
   "source": [
    "import cv2\n",
    "import os\n",
    "import numpy as np\n",
    "from skimage.feature import hog\n",
    "from sklearn.cluster import KMeans\n",
    "from sklearn.preprocessing import StandardScaler\n",
    "\n",
    "# Constants\n",
    "IMAGE_SIZE = (28, 28)  # Standard image size\n",
    "\n",
    "def preprocess_image(image_path):\n",
    "    # Read and resize image\n",
    "    img = cv2.imread(image_path, cv2.IMREAD_GRAYSCALE)\n",
    "    img = cv2.resize(img, IMAGE_SIZE)\n",
    "\n",
    "    # Normalize pixel values\n",
    "    img = img / 255.0\n",
    "\n",
    "    return img\n",
    "\n",
    "def extract_features(image):\n",
    "    # Extract HOG features\n",
    "    features, _ = hog(image, orientations=8, pixels_per_cell=(4, 4),\n",
    "                      cells_per_block=(1, 1), visualize=True)\n",
    "    return features\n",
    "\n",
    "\n"
   ]
  },
  {
   "cell_type": "code",
   "execution_count": 15,
   "id": "27f9ccab",
   "metadata": {},
   "outputs": [],
   "source": [
    "def process_images(file_paths):\n",
    "    features_list = []\n",
    "\n",
    "    for file_path in file_paths:\n",
    "        image = preprocess_image(file_path)\n",
    "        features = extract_features(image)\n",
    "        features_list.append(features)\n",
    "\n",
    "    return np.array(features_list)\n"
   ]
  },
  {
   "cell_type": "code",
   "execution_count": 16,
   "id": "4dc84370",
   "metadata": {
    "scrolled": true
   },
   "outputs": [],
   "source": [
    "\n",
    "train_features = process_images(X_train)\n",
    "val_features = process_images(X_val)\n",
    "test_features = process_images(X_test)  # No y_test needed"
   ]
  },
  {
   "cell_type": "code",
   "execution_count": 17,
   "id": "225496b4",
   "metadata": {},
   "outputs": [],
   "source": [
    "train_labels = np.array(y_train)\n",
    "val_labels = np.array(y_val)\n",
    "test_labels = np.array(y_test)"
   ]
  },
  {
   "cell_type": "code",
   "execution_count": 22,
   "id": "b4010dd7",
   "metadata": {
    "scrolled": true
   },
   "outputs": [
    {
     "name": "stdout",
     "output_type": "stream",
     "text": [
      "U\n"
     ]
    }
   ],
   "source": [
    "print((test_labels[50]))"
   ]
  },
  {
   "cell_type": "code",
   "execution_count": 23,
   "id": "957cc526",
   "metadata": {},
   "outputs": [],
   "source": [
    "\n",
    "# Scale features\n",
    "scaler = StandardScaler()\n",
    "train_features_scaled = scaler.fit_transform(train_features)\n",
    "val_features_scaled = scaler.transform(val_features)\n",
    "test_features_scaled = scaler.transform(test_features)\n"
   ]
  },
  {
   "cell_type": "code",
   "execution_count": 24,
   "id": "bad44958",
   "metadata": {
    "scrolled": true
   },
   "outputs": [
    {
     "name": "stdout",
     "output_type": "stream",
     "text": [
      "1008\n"
     ]
    }
   ],
   "source": [
    "print(len(test_features_scaled))"
   ]
  },
  {
   "cell_type": "code",
   "execution_count": 25,
   "id": "df023f00",
   "metadata": {},
   "outputs": [
    {
     "name": "stderr",
     "output_type": "stream",
     "text": [
      "/Users/samanyukamra/anaconda3/lib/python3.11/site-packages/sklearn/cluster/_kmeans.py:1412: FutureWarning:\n",
      "\n",
      "The default value of `n_init` will change from 10 to 'auto' in 1.4. Set the value of `n_init` explicitly to suppress the warning\n",
      "\n"
     ]
    },
    {
     "data": {
      "text/html": [
       "<style>#sk-container-id-1 {color: black;}#sk-container-id-1 pre{padding: 0;}#sk-container-id-1 div.sk-toggleable {background-color: white;}#sk-container-id-1 label.sk-toggleable__label {cursor: pointer;display: block;width: 100%;margin-bottom: 0;padding: 0.3em;box-sizing: border-box;text-align: center;}#sk-container-id-1 label.sk-toggleable__label-arrow:before {content: \"▸\";float: left;margin-right: 0.25em;color: #696969;}#sk-container-id-1 label.sk-toggleable__label-arrow:hover:before {color: black;}#sk-container-id-1 div.sk-estimator:hover label.sk-toggleable__label-arrow:before {color: black;}#sk-container-id-1 div.sk-toggleable__content {max-height: 0;max-width: 0;overflow: hidden;text-align: left;background-color: #f0f8ff;}#sk-container-id-1 div.sk-toggleable__content pre {margin: 0.2em;color: black;border-radius: 0.25em;background-color: #f0f8ff;}#sk-container-id-1 input.sk-toggleable__control:checked~div.sk-toggleable__content {max-height: 200px;max-width: 100%;overflow: auto;}#sk-container-id-1 input.sk-toggleable__control:checked~label.sk-toggleable__label-arrow:before {content: \"▾\";}#sk-container-id-1 div.sk-estimator input.sk-toggleable__control:checked~label.sk-toggleable__label {background-color: #d4ebff;}#sk-container-id-1 div.sk-label input.sk-toggleable__control:checked~label.sk-toggleable__label {background-color: #d4ebff;}#sk-container-id-1 input.sk-hidden--visually {border: 0;clip: rect(1px 1px 1px 1px);clip: rect(1px, 1px, 1px, 1px);height: 1px;margin: -1px;overflow: hidden;padding: 0;position: absolute;width: 1px;}#sk-container-id-1 div.sk-estimator {font-family: monospace;background-color: #f0f8ff;border: 1px dotted black;border-radius: 0.25em;box-sizing: border-box;margin-bottom: 0.5em;}#sk-container-id-1 div.sk-estimator:hover {background-color: #d4ebff;}#sk-container-id-1 div.sk-parallel-item::after {content: \"\";width: 100%;border-bottom: 1px solid gray;flex-grow: 1;}#sk-container-id-1 div.sk-label:hover label.sk-toggleable__label {background-color: #d4ebff;}#sk-container-id-1 div.sk-serial::before {content: \"\";position: absolute;border-left: 1px solid gray;box-sizing: border-box;top: 0;bottom: 0;left: 50%;z-index: 0;}#sk-container-id-1 div.sk-serial {display: flex;flex-direction: column;align-items: center;background-color: white;padding-right: 0.2em;padding-left: 0.2em;position: relative;}#sk-container-id-1 div.sk-item {position: relative;z-index: 1;}#sk-container-id-1 div.sk-parallel {display: flex;align-items: stretch;justify-content: center;background-color: white;position: relative;}#sk-container-id-1 div.sk-item::before, #sk-container-id-1 div.sk-parallel-item::before {content: \"\";position: absolute;border-left: 1px solid gray;box-sizing: border-box;top: 0;bottom: 0;left: 50%;z-index: -1;}#sk-container-id-1 div.sk-parallel-item {display: flex;flex-direction: column;z-index: 1;position: relative;background-color: white;}#sk-container-id-1 div.sk-parallel-item:first-child::after {align-self: flex-end;width: 50%;}#sk-container-id-1 div.sk-parallel-item:last-child::after {align-self: flex-start;width: 50%;}#sk-container-id-1 div.sk-parallel-item:only-child::after {width: 0;}#sk-container-id-1 div.sk-dashed-wrapped {border: 1px dashed gray;margin: 0 0.4em 0.5em 0.4em;box-sizing: border-box;padding-bottom: 0.4em;background-color: white;}#sk-container-id-1 div.sk-label label {font-family: monospace;font-weight: bold;display: inline-block;line-height: 1.2em;}#sk-container-id-1 div.sk-label-container {text-align: center;}#sk-container-id-1 div.sk-container {/* jupyter's `normalize.less` sets `[hidden] { display: none; }` but bootstrap.min.css set `[hidden] { display: none !important; }` so we also need the `!important` here to be able to override the default hidden behavior on the sphinx rendered scikit-learn.org. See: https://github.com/scikit-learn/scikit-learn/issues/21755 */display: inline-block !important;position: relative;}#sk-container-id-1 div.sk-text-repr-fallback {display: none;}</style><div id=\"sk-container-id-1\" class=\"sk-top-container\"><div class=\"sk-text-repr-fallback\"><pre>KMeans(n_clusters=36, random_state=42)</pre><b>In a Jupyter environment, please rerun this cell to show the HTML representation or trust the notebook. <br />On GitHub, the HTML representation is unable to render, please try loading this page with nbviewer.org.</b></div><div class=\"sk-container\" hidden><div class=\"sk-item\"><div class=\"sk-estimator sk-toggleable\"><input class=\"sk-toggleable__control sk-hidden--visually\" id=\"sk-estimator-id-1\" type=\"checkbox\" checked><label for=\"sk-estimator-id-1\" class=\"sk-toggleable__label sk-toggleable__label-arrow\">KMeans</label><div class=\"sk-toggleable__content\"><pre>KMeans(n_clusters=36, random_state=42)</pre></div></div></div></div></div>"
      ],
      "text/plain": [
       "KMeans(n_clusters=36, random_state=42)"
      ]
     },
     "execution_count": 25,
     "metadata": {},
     "output_type": "execute_result"
    }
   ],
   "source": [
    "from sklearn.cluster import KMeans\n",
    "import numpy as np\n",
    "\n",
    "# Assuming you know the number of classes (for example, 10 digits for a digit recognition task)\n",
    "n_clusters = 36\n",
    "\n",
    "# Initialize KMeans with the number of clusters\n",
    "kmeans = KMeans(n_clusters=n_clusters, random_state=42)\n",
    "\n",
    "# Fit the model on the scaled training data\n",
    "kmeans.fit(train_features_scaled)\n",
    "\n"
   ]
  },
  {
   "cell_type": "code",
   "execution_count": 34,
   "id": "bde9f61e",
   "metadata": {},
   "outputs": [],
   "source": [
    "train_clusters = kmeans.predict(train_features_scaled)"
   ]
  },
  {
   "cell_type": "code",
   "execution_count": 29,
   "id": "c3038f1c",
   "metadata": {},
   "outputs": [],
   "source": [
    "from sklearn.preprocessing import LabelEncoder\n",
    "\n",
    "label_encoder = LabelEncoder()\n",
    "\n",
    "# Assuming y_train and y_val contain string labels\n",
    "y_train_encoded = label_encoder.fit_transform(y_train)\n",
    "y_val_encoded = label_encoder.transform(y_val)\n",
    "\n",
    "\n",
    "\n"
   ]
  },
  {
   "cell_type": "code",
   "execution_count": 30,
   "id": "d8bab2ce",
   "metadata": {},
   "outputs": [],
   "source": [
    "label_counts_per_cluster = np.zeros((kmeans.n_clusters, len(label_encoder.classes_)), dtype=int)\n",
    "\n",
    "for cluster in range(kmeans.n_clusters):\n",
    "    indices = np.where(train_clusters == cluster)[0]\n",
    "    labels, counts = np.unique(y_train_encoded[indices], return_counts=True)\n",
    "    label_counts_per_cluster[cluster][labels] = counts\n",
    "\n",
    "cluster_to_label_mapping = np.argmax(label_counts_per_cluster, axis=1)\n"
   ]
  },
  {
   "cell_type": "code",
   "execution_count": 33,
   "id": "caf61a71",
   "metadata": {},
   "outputs": [
    {
     "name": "stdout",
     "output_type": "stream",
     "text": [
      "Validation Set Accuracy: 76.10%\n"
     ]
    }
   ],
   "source": [
    "from sklearn.metrics import confusion_matrix\n",
    "import numpy as np\n",
    "from sklearn.metrics import accuracy_score\n",
    "\n",
    "val_predicted_labels = cluster_to_label_mapping[kmeans.predict(val_features_scaled)]\n",
    "val_accuracy = accuracy_score(y_val_encoded, val_predicted_labels)\n",
    "print(f'Validation Set Accuracy: {val_accuracy * 100:.2f}%')\n"
   ]
  },
  {
   "cell_type": "code",
   "execution_count": 36,
   "id": "ffb45f29",
   "metadata": {},
   "outputs": [],
   "source": [
    "label_encoder =  LabelEncoder()\n",
    "y_train_encoded = label_encoder.fit_transform(y_train)\n",
    "y_test_encoded = label_encoder.transform(y_test)"
   ]
  },
  {
   "cell_type": "code",
   "execution_count": 37,
   "id": "52217ab0",
   "metadata": {},
   "outputs": [],
   "source": [
    "label_counts_per_cluster = np.zeros((kmeans.n_clusters, len(label_encoder.classes_)), dtype=int)\n",
    "\n",
    "for cluster in range(kmeans.n_clusters):\n",
    "    indices = np.where(train_clusters == cluster)[0]\n",
    "    labels, counts = np.unique(y_train_encoded[indices], return_counts=True)\n",
    "    label_counts_per_cluster[cluster][labels] = counts\n",
    "\n",
    "cluster_to_label_mapping = np.argmax(label_counts_per_cluster, axis=1)\n"
   ]
  },
  {
   "cell_type": "code",
   "execution_count": 38,
   "id": "fd7d74d6",
   "metadata": {},
   "outputs": [
    {
     "name": "stdout",
     "output_type": "stream",
     "text": [
      "Validation Set Accuracy: 85.32%\n"
     ]
    }
   ],
   "source": [
    "from sklearn.metrics import confusion_matrix\n",
    "import numpy as np\n",
    "from sklearn.metrics import accuracy_score\n",
    "\n",
    "test_predicted_labels = cluster_to_label_mapping[kmeans.predict(test_features_scaled)]\n",
    "test_accuracy = accuracy_score(y_test_encoded, test_predicted_labels)\n",
    "print(f'Validation Set Accuracy: {test_accuracy * 100:.2f}%')"
   ]
  },
  {
   "cell_type": "code",
   "execution_count": null,
   "id": "9188e62d",
   "metadata": {},
   "outputs": [],
   "source": []
  }
 ],
 "metadata": {
  "kernelspec": {
   "display_name": "Python 3 (ipykernel)",
   "language": "python",
   "name": "python3"
  },
  "language_info": {
   "codemirror_mode": {
    "name": "ipython",
    "version": 3
   },
   "file_extension": ".py",
   "mimetype": "text/x-python",
   "name": "python",
   "nbconvert_exporter": "python",
   "pygments_lexer": "ipython3",
   "version": "3.11.5"
  }
 },
 "nbformat": 4,
 "nbformat_minor": 5
}
